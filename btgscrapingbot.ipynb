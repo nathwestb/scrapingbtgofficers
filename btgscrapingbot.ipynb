{
 "cells": [
  {
   "cell_type": "markdown",
   "metadata": {},
   "source": [
    "BTG ESCRITÓRIOS - SCRAPING"
   ]
  },
  {
   "cell_type": "code",
   "execution_count": 28,
   "metadata": {},
   "outputs": [],
   "source": [
    "from selenium import webdriver\n",
    "from selenium.webdriver.common.keys import Keys\n",
    "from selenium.webdriver.support import expected_conditions as EC\n",
    "from selenium.webdriver.common.by import By\n",
    "from selenium.webdriver.support.wait import WebDriverWait\n",
    "from webdriver_manager.chrome import ChromeDriverManager\n",
    "import time\n",
    "import pandas as pd"
   ]
  },
  {
   "cell_type": "code",
   "execution_count": null,
   "metadata": {},
   "outputs": [],
   "source": [
    "driver = webdriver.Chrome(ChromeDriverManager().install())\n",
    "\n",
    "driver.get(\"https://www.sejabtg.com/escritorios\")\n",
    "time.sleep (2)\n",
    "matriz = driver.find_element_by_xpath('//*[@id=\"mat-radio-3\"]').click()\n",
    "localizar = driver.find_element_by_xpath('/html/body/app-root/main/app-locate-offices/section[1]/div/div/form/div/div[5]/button').click()\n",
    "time.sleep(2)"
   ]
  },
  {
   "cell_type": "code",
   "execution_count": null,
   "metadata": {},
   "outputs": [],
   "source": [
    "escritorio_lista = []\n",
    "\n",
    "\n",
    "escritorios = driver.find_elements_by_tag_name(\"mat-expansion-panel-header\")\n",
    "escritorios = [e for e in escritorios if e.get_attribute(\"aria-expanded\") == \"false\"]\n",
    "\n",
    "for i in range(0, len(escritorios)):\n",
    "    driver.execute_script(\"arguments[0].click();\", escritorios[i])\n",
    "\n",
    "\n",
    "    lista_botao = driver.find_elements_by_tag_name(\"button\")\n",
    "    listas = [btn for btn in lista_botao if \"LISTA DE SÓCIOS\" in btn.text]\n",
    "\n",
    "    for j in range(0, len(listas)):\n",
    "        driver.execute_script(\"arguments[0].click();\", listas[j])\n",
    "\n",
    "\n",
    "    nomes = driver.find_elements_by_tag_name(\"p\")\n",
    "    nomes = [p for p in nomes if p.get_attribute(\"class\") == \"text-p1 name\"]\n",
    "\n",
    "    for k in range(0, len(nomes)):\n",
    "        driver.execute_script(\"arguments[0].text;\", nomes[k])\n",
    "        nome = nomes[k].text\n",
    "\n",
    "    socios = driver.find_elements_by_tag_name(\"ul\")\n",
    "    socios = [ul for ul in socios if ul.get_attribute(\"class\") == \"list\"]\n",
    "\n",
    "    for l in range(0, len(socios)):\n",
    "        driver.execute_script(\"arguments[0].text;\", socios[l])\n",
    "        socio = socios[l].text\n",
    "\n",
    "    fechares = driver.find_elements_by_tag_name(\"button\")\n",
    "    fechares = [f for f in fechares if f.get_attribute(\"type\") ==\"button\"]\n",
    "\n",
    "    for m in range(0, len(fechares)):\n",
    "        fechar = driver.execute_script(\"arguments[0].click();\", fechares[m])\n",
    "    \n",
    "    time.sleep(0.1)\n",
    "    escritorio_itens = {\n",
    "        'escritorio': nome,\n",
    "        'socios': socio,\n",
    "    }\n",
    "    escritorio_lista.append(escritorio_itens)\n",
    "\n",
    "    df = pd.DataFrame(escritorio_lista)     \n"
   ]
  },
  {
   "cell_type": "code",
   "execution_count": null,
   "metadata": {},
   "outputs": [],
   "source": [
    "print(df)\n",
    "df.to_excel('btg_escritorios.xlsx', index = False, header = True)"
   ]
  }
 ],
 "metadata": {
  "interpreter": {
   "hash": "001b834d6f2969a40ff5f491c5ed47778f429c16ee63f6a3942f70a3d415d260"
  },
  "kernelspec": {
   "display_name": "Python 3.10.2 64-bit",
   "language": "python",
   "name": "python3"
  },
  "language_info": {
   "codemirror_mode": {
    "name": "ipython",
    "version": 3
   },
   "file_extension": ".py",
   "mimetype": "text/x-python",
   "name": "python",
   "nbconvert_exporter": "python",
   "pygments_lexer": "ipython3",
   "version": "3.10.2"
  },
  "orig_nbformat": 4
 },
 "nbformat": 4,
 "nbformat_minor": 2
}
